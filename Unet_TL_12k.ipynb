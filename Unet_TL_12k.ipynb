{
  "nbformat": 4,
  "nbformat_minor": 0,
  "metadata": {
    "colab": {
      "provenance": [],
      "authorship_tag": "ABX9TyNtVGFn75tHYvKRTZBlGTca",
      "include_colab_link": true
    },
    "kernelspec": {
      "name": "python3",
      "display_name": "Python 3"
    },
    "language_info": {
      "name": "python"
    },
    "accelerator": "GPU",
    "gpuClass": "standard"
  },
  "cells": [
    {
      "cell_type": "markdown",
      "metadata": {
        "id": "view-in-github",
        "colab_type": "text"
      },
      "source": [
        "<a href=\"https://colab.research.google.com/github/WexQuasExort/Binary-Search-Tree/blob/master/Unet_TL_12k.ipynb\" target=\"_parent\"><img src=\"https://colab.research.google.com/assets/colab-badge.svg\" alt=\"Open In Colab\"/></a>"
      ]
    },
    {
      "cell_type": "code",
      "source": [
        "from keras.layers import Dense, Dropout, Activation, Flatten  ,BatchNormalization, Input, Conv2D,Conv2DTranspose, Concatenate,MaxPool2D\n",
        "from tensorflow.keras.preprocessing.image import ImageDataGenerator\n",
        "from keras.layers import Convolution2D, MaxPooling2D ,UpSampling2D\n",
        "from tensorflow.keras.callbacks import ModelCheckpoint\n",
        "from tensorflow.keras.applications import ResNet50\n",
        "from tensorflow.keras.preprocessing import image \n",
        "from tensorflow.keras.optimizers import RMSprop\n",
        "from tensorflow.keras.models import Model\n",
        "from keras.models import Sequential\n",
        "import matplotlib.pyplot as plt\n",
        "from tensorflow import keras\n",
        "import tensorflow as tf\n",
        "import numpy as np  \n",
        "import random\n",
        "import pickle\n",
        "import cv2\n",
        "import bz2\n",
        "import os"
      ],
      "metadata": {
        "id": "L870ZL8BZGHw"
      },
      "execution_count": 1,
      "outputs": []
    },
    {
      "cell_type": "code",
      "source": [
        "from google.colab import drive\n",
        "drive.mount('/content/drive')"
      ],
      "metadata": {
        "id": "vE4KpCWZZXoA",
        "colab": {
          "base_uri": "https://localhost:8080/"
        },
        "outputId": "cebf328d-bb1e-4866-ae88-558e2ae1b6d0"
      },
      "execution_count": 2,
      "outputs": [
        {
          "output_type": "stream",
          "name": "stdout",
          "text": [
            "Drive already mounted at /content/drive; to attempt to forcibly remount, call drive.mount(\"/content/drive\", force_remount=True).\n"
          ]
        }
      ]
    },
    {
      "cell_type": "code",
      "source": [
        "arabic_test=np.load('/content/drive/MyDrive/train/arabic_28x28_inversed.npy',allow_pickle=True)"
      ],
      "metadata": {
        "id": "n8IRy1GmPuTV"
      },
      "execution_count": null,
      "outputs": []
    },
    {
      "cell_type": "code",
      "source": [
        "with bz2.BZ2File (\"/content/drive/MyDrive/128x128_train/myData12k.pkl\", \"rb\") as f2:\n",
        "    X_train, Y_train, X_val, Y_val = pickle.load(f2)"
      ],
      "metadata": {
        "id": "DB38UZxYvwIo"
      },
      "execution_count": 3,
      "outputs": []
    },
    {
      "cell_type": "code",
      "source": [
        "with bz2.BZ2File (\"/content/drive/MyDrive/128x128_train/myDataArabic.pkl\", \"rb\") as f2:\n",
        "    arabic_dataset = pickle.load(f2)"
      ],
      "metadata": {
        "id": "FVZ0HArmuX6t"
      },
      "execution_count": 4,
      "outputs": []
    },
    {
      "cell_type": "code",
      "source": [
        "# squeeze it and have fun\n",
        "arabic_dataset= np.squeeze(arabic_dataset)\n",
        "arabic_dataset = np.repeat(arabic_dataset[...,np.newaxis],3,-1)\n",
        "arabic_dataset.shape"
      ],
      "metadata": {
        "colab": {
          "base_uri": "https://localhost:8080/"
        },
        "id": "nWtNI6c4xIge",
        "outputId": "d46adab9-612c-4997-9c91-e4f8433f758a"
      },
      "execution_count": 5,
      "outputs": [
        {
          "output_type": "execute_result",
          "data": {
            "text/plain": [
              "(10000, 128, 128, 3)"
            ]
          },
          "metadata": {},
          "execution_count": 5
        }
      ]
    },
    {
      "cell_type": "code",
      "source": [
        "X_train = np.repeat(X_train[...,np.newaxis],3,-1)\n",
        "Y_train = np.repeat(Y_train[...,np.newaxis],1,-1)\n",
        "X_val = np.repeat(X_val[...,np.newaxis],3,-1)\n",
        "Y_val = np.repeat(Y_val[...,np.newaxis],1,-1)"
      ],
      "metadata": {
        "id": "n9qClWvdZkg5"
      },
      "execution_count": 4,
      "outputs": []
    },
    {
      "cell_type": "code",
      "source": [
        "print(X_train.shape)\n",
        "print(Y_train.shape)\n",
        "print(X_val.shape)\n",
        "print(Y_val.shape)"
      ],
      "metadata": {
        "colab": {
          "base_uri": "https://localhost:8080/"
        },
        "id": "FaJM41v7ITzj",
        "outputId": "5f3b2d6f-defc-4aa2-8328-d0a582995405"
      },
      "execution_count": 5,
      "outputs": [
        {
          "output_type": "stream",
          "name": "stdout",
          "text": [
            "(10000, 128, 128, 3)\n",
            "(10000, 128, 128, 1)\n",
            "(2000, 128, 128, 3)\n",
            "(2000, 128, 128, 1)\n"
          ]
        }
      ]
    },
    {
      "cell_type": "code",
      "source": [
        "X_train.shape\n",
        "for img in X_train[:1] :\n",
        "    plt.imshow(img,  cmap =\"gray\")\n",
        "    plt.show()\n",
        "for img in Y_train[:1] :\n",
        "    plt.imshow(img,  cmap =\"gray\")\n",
        "    plt.show()"
      ],
      "metadata": {
        "colab": {
          "base_uri": "https://localhost:8080/",
          "height": 866
        },
        "id": "NG4sD5oAxlmj",
        "outputId": "bf90c3eb-7c1a-474d-e7a5-73acfa579deb"
      },
      "execution_count": null,
      "outputs": [
        {
          "output_type": "display_data",
          "data": {
            "text/plain": [
              "<Figure size 432x288 with 1 Axes>"
            ],
            "image/png": "[encoded data removed]"
          },
          "metadata": {
            "needs_background": "light"
          }
        },
        {
          "output_type": "error",
          "ename": "TypeError",
          "evalue": "ignored",
          "traceback": [
            "\u001b[0;31m---------------------------------------------------------------------------\u001b[0m",
            "\u001b[0;31mTypeError\u001b[0m                                 Traceback (most recent call last)",
            "\u001b[0;32m<ipython-input-6-6d94068cc9a1>\u001b[0m in \u001b[0;36m<module>\u001b[0;34m\u001b[0m\n\u001b[1;32m      4\u001b[0m     \u001b[0mplt\u001b[0m\u001b[0;34m.\u001b[0m\u001b[0mshow\u001b[0m\u001b[0;34m(\u001b[0m\u001b[0;34m)\u001b[0m\u001b[0;34m\u001b[0m\u001b[0;34m\u001b[0m\u001b[0m\n\u001b[1;32m      5\u001b[0m \u001b[0;32mfor\u001b[0m \u001b[0mimg\u001b[0m \u001b[0;32min\u001b[0m \u001b[0mY_train\u001b[0m\u001b[0;34m[\u001b[0m\u001b[0;34m:\u001b[0m\u001b[0;36m1\u001b[0m\u001b[0;34m]\u001b[0m \u001b[0;34m:\u001b[0m\u001b[0;34m\u001b[0m\u001b[0;34m\u001b[0m\u001b[0m\n\u001b[0;32m----> 6\u001b[0;31m     \u001b[0mplt\u001b[0m\u001b[0;34m.\u001b[0m\u001b[0mimshow\u001b[0m\u001b[0;34m(\u001b[0m\u001b[0mimg\u001b[0m\u001b[0;34m,\u001b[0m  \u001b[0mcmap\u001b[0m \u001b[0;34m=\u001b[0m\u001b[0;34m\"gray\"\u001b[0m\u001b[0;34m)\u001b[0m\u001b[0;34m\u001b[0m\u001b[0;34m\u001b[0m\u001b[0m\n\u001b[0m\u001b[1;32m      7\u001b[0m     \u001b[0mplt\u001b[0m\u001b[0;34m.\u001b[0m\u001b[0mshow\u001b[0m\u001b[0;34m(\u001b[0m\u001b[0;34m)\u001b[0m\u001b[0;34m\u001b[0m\u001b[0;34m\u001b[0m\u001b[0m\n",
            "\u001b[0;32m/usr/local/lib/python3.8/dist-packages/matplotlib/pyplot.py\u001b[0m in \u001b[0;36mimshow\u001b[0;34m(X, cmap, norm, aspect, interpolation, alpha, vmin, vmax, origin, extent, shape, filternorm, filterrad, imlim, resample, url, data, **kwargs)\u001b[0m\n\u001b[1;32m   2643\u001b[0m         \u001b[0mfilterrad\u001b[0m\u001b[0;34m=\u001b[0m\u001b[0;36m4.0\u001b[0m\u001b[0;34m,\u001b[0m \u001b[0mimlim\u001b[0m\u001b[0;34m=\u001b[0m\u001b[0mcbook\u001b[0m\u001b[0;34m.\u001b[0m\u001b[0mdeprecation\u001b[0m\u001b[0;34m.\u001b[0m\u001b[0m_deprecated_parameter\u001b[0m\u001b[0;34m,\u001b[0m\u001b[0;34m\u001b[0m\u001b[0;34m\u001b[0m\u001b[0m\n\u001b[1;32m   2644\u001b[0m         resample=None, url=None, *, data=None, **kwargs):\n\u001b[0;32m-> 2645\u001b[0;31m     __ret = gca().imshow(\n\u001b[0m\u001b[1;32m   2646\u001b[0m         \u001b[0mX\u001b[0m\u001b[0;34m,\u001b[0m \u001b[0mcmap\u001b[0m\u001b[0;34m=\u001b[0m\u001b[0mcmap\u001b[0m\u001b[0;34m,\u001b[0m \u001b[0mnorm\u001b[0m\u001b[0;34m=\u001b[0m\u001b[0mnorm\u001b[0m\u001b[0;34m,\u001b[0m \u001b[0maspect\u001b[0m\u001b[0;34m=\u001b[0m\u001b[0maspect\u001b[0m\u001b[0;34m,\u001b[0m\u001b[0;34m\u001b[0m\u001b[0;34m\u001b[0m\u001b[0m\n\u001b[1;32m   2647\u001b[0m         \u001b[0minterpolation\u001b[0m\u001b[0;34m=\u001b[0m\u001b[0minterpolation\u001b[0m\u001b[0;34m,\u001b[0m \u001b[0malpha\u001b[0m\u001b[0;34m=\u001b[0m\u001b[0malpha\u001b[0m\u001b[0;34m,\u001b[0m \u001b[0mvmin\u001b[0m\u001b[0;34m=\u001b[0m\u001b[0mvmin\u001b[0m\u001b[0;34m,\u001b[0m\u001b[0;34m\u001b[0m\u001b[0;34m\u001b[0m\u001b[0m\n",
            "\u001b[0;32m/usr/local/lib/python3.8/dist-packages/matplotlib/__init__.py\u001b[0m in \u001b[0;36minner\u001b[0;34m(ax, data, *args, **kwargs)\u001b[0m\n\u001b[1;32m   1563\u001b[0m     \u001b[0;32mdef\u001b[0m \u001b[0minner\u001b[0m\u001b[0;34m(\u001b[0m\u001b[0max\u001b[0m\u001b[0;34m,\u001b[0m \u001b[0;34m*\u001b[0m\u001b[0margs\u001b[0m\u001b[0;34m,\u001b[0m \u001b[0mdata\u001b[0m\u001b[0;34m=\u001b[0m\u001b[0;32mNone\u001b[0m\u001b[0;34m,\u001b[0m \u001b[0;34m**\u001b[0m\u001b[0mkwargs\u001b[0m\u001b[0;34m)\u001b[0m\u001b[0;34m:\u001b[0m\u001b[0;34m\u001b[0m\u001b[0;34m\u001b[0m\u001b[0m\n\u001b[1;32m   1564\u001b[0m         \u001b[0;32mif\u001b[0m \u001b[0mdata\u001b[0m \u001b[0;32mis\u001b[0m \u001b[0;32mNone\u001b[0m\u001b[0;34m:\u001b[0m\u001b[0;34m\u001b[0m\u001b[0;34m\u001b[0m\u001b[0m\n\u001b[0;32m-> 1565\u001b[0;31m             \u001b[0;32mreturn\u001b[0m \u001b[0mfunc\u001b[0m\u001b[0;34m(\u001b[0m\u001b[0max\u001b[0m\u001b[0;34m,\u001b[0m \u001b[0;34m*\u001b[0m\u001b[0mmap\u001b[0m\u001b[0;34m(\u001b[0m\u001b[0msanitize_sequence\u001b[0m\u001b[0;34m,\u001b[0m \u001b[0margs\u001b[0m\u001b[0;34m)\u001b[0m\u001b[0;34m,\u001b[0m \u001b[0;34m**\u001b[0m\u001b[0mkwargs\u001b[0m\u001b[0;34m)\u001b[0m\u001b[0;34m\u001b[0m\u001b[0;34m\u001b[0m\u001b[0m\n\u001b[0m\u001b[1;32m   1566\u001b[0m \u001b[0;34m\u001b[0m\u001b[0m\n\u001b[1;32m   1567\u001b[0m         \u001b[0mbound\u001b[0m \u001b[0;34m=\u001b[0m \u001b[0mnew_sig\u001b[0m\u001b[0;34m.\u001b[0m\u001b[0mbind\u001b[0m\u001b[0;34m(\u001b[0m\u001b[0max\u001b[0m\u001b[0;34m,\u001b[0m \u001b[0;34m*\u001b[0m\u001b[0margs\u001b[0m\u001b[0;34m,\u001b[0m \u001b[0;34m**\u001b[0m\u001b[0mkwargs\u001b[0m\u001b[0;34m)\u001b[0m\u001b[0;34m\u001b[0m\u001b[0;34m\u001b[0m\u001b[0m\n",
            "\u001b[0;32m/usr/local/lib/python3.8/dist-packages/matplotlib/cbook/deprecation.py\u001b[0m in \u001b[0;36mwrapper\u001b[0;34m(*args, **kwargs)\u001b[0m\n\u001b[1;32m    356\u001b[0m                 \u001b[0;34mf\"%(removal)s.  If any parameter follows {name!r}, they \"\u001b[0m\u001b[0;34m\u001b[0m\u001b[0;34m\u001b[0m\u001b[0m\n\u001b[1;32m    357\u001b[0m                 f\"should be pass as keyword, not positionally.\")\n\u001b[0;32m--> 358\u001b[0;31m         \u001b[0;32mreturn\u001b[0m \u001b[0mfunc\u001b[0m\u001b[0;34m(\u001b[0m\u001b[0;34m*\u001b[0m\u001b[0margs\u001b[0m\u001b[0;34m,\u001b[0m \u001b[0;34m**\u001b[0m\u001b[0mkwargs\u001b[0m\u001b[0;34m)\u001b[0m\u001b[0;34m\u001b[0m\u001b[0;34m\u001b[0m\u001b[0m\n\u001b[0m\u001b[1;32m    359\u001b[0m \u001b[0;34m\u001b[0m\u001b[0m\n\u001b[1;32m    360\u001b[0m     \u001b[0;32mreturn\u001b[0m \u001b[0mwrapper\u001b[0m\u001b[0;34m\u001b[0m\u001b[0;34m\u001b[0m\u001b[0m\n",
            "\u001b[0;32m/usr/local/lib/python3.8/dist-packages/matplotlib/cbook/deprecation.py\u001b[0m in \u001b[0;36mwrapper\u001b[0;34m(*args, **kwargs)\u001b[0m\n\u001b[1;32m    356\u001b[0m                 \u001b[0;34mf\"%(removal)s.  If any parameter follows {name!r}, they \"\u001b[0m\u001b[0;34m\u001b[0m\u001b[0;34m\u001b[0m\u001b[0m\n\u001b[1;32m    357\u001b[0m                 f\"should be pass as keyword, not positionally.\")\n\u001b[0;32m--> 358\u001b[0;31m         \u001b[0;32mreturn\u001b[0m \u001b[0mfunc\u001b[0m\u001b[0;34m(\u001b[0m\u001b[0;34m*\u001b[0m\u001b[0margs\u001b[0m\u001b[0;34m,\u001b[0m \u001b[0;34m**\u001b[0m\u001b[0mkwargs\u001b[0m\u001b[0;34m)\u001b[0m\u001b[0;34m\u001b[0m\u001b[0;34m\u001b[0m\u001b[0m\n\u001b[0m\u001b[1;32m    359\u001b[0m \u001b[0;34m\u001b[0m\u001b[0m\n\u001b[1;32m    360\u001b[0m     \u001b[0;32mreturn\u001b[0m \u001b[0mwrapper\u001b[0m\u001b[0;34m\u001b[0m\u001b[0;34m\u001b[0m\u001b[0m\n",
            "\u001b[0;32m/usr/local/lib/python3.8/dist-packages/matplotlib/axes/_axes.py\u001b[0m in \u001b[0;36mimshow\u001b[0;34m(self, X, cmap, norm, aspect, interpolation, alpha, vmin, vmax, origin, extent, shape, filternorm, filterrad, imlim, resample, url, **kwargs)\u001b[0m\n\u001b[1;32m   5624\u001b[0m                               resample=resample, **kwargs)\n\u001b[1;32m   5625\u001b[0m \u001b[0;34m\u001b[0m\u001b[0m\n\u001b[0;32m-> 5626\u001b[0;31m         \u001b[0mim\u001b[0m\u001b[0;34m.\u001b[0m\u001b[0mset_data\u001b[0m\u001b[0;34m(\u001b[0m\u001b[0mX\u001b[0m\u001b[0;34m)\u001b[0m\u001b[0;34m\u001b[0m\u001b[0;34m\u001b[0m\u001b[0m\n\u001b[0m\u001b[1;32m   5627\u001b[0m         \u001b[0mim\u001b[0m\u001b[0;34m.\u001b[0m\u001b[0mset_alpha\u001b[0m\u001b[0;34m(\u001b[0m\u001b[0malpha\u001b[0m\u001b[0;34m)\u001b[0m\u001b[0;34m\u001b[0m\u001b[0;34m\u001b[0m\u001b[0m\n\u001b[1;32m   5628\u001b[0m         \u001b[0;32mif\u001b[0m \u001b[0mim\u001b[0m\u001b[0;34m.\u001b[0m\u001b[0mget_clip_path\u001b[0m\u001b[0;34m(\u001b[0m\u001b[0;34m)\u001b[0m \u001b[0;32mis\u001b[0m \u001b[0;32mNone\u001b[0m\u001b[0;34m:\u001b[0m\u001b[0;34m\u001b[0m\u001b[0;34m\u001b[0m\u001b[0m\n",
            "\u001b[0;32m/usr/local/lib/python3.8/dist-packages/matplotlib/image.py\u001b[0m in \u001b[0;36mset_data\u001b[0;34m(self, A)\u001b[0m\n\u001b[1;32m    696\u001b[0m         if not (self._A.ndim == 2\n\u001b[1;32m    697\u001b[0m                 or self._A.ndim == 3 and self._A.shape[-1] in [3, 4]):\n\u001b[0;32m--> 698\u001b[0;31m             raise TypeError(\"Invalid shape {} for image data\"\n\u001b[0m\u001b[1;32m    699\u001b[0m                             .format(self._A.shape))\n\u001b[1;32m    700\u001b[0m \u001b[0;34m\u001b[0m\u001b[0m\n",
            "\u001b[0;31mTypeError\u001b[0m: Invalid shape (128, 128, 1) for image data"
          ]
        },
        {
          "output_type": "display_data",
          "data": {
            "text/plain": [
              "<Figure size 432x288 with 1 Axes>"
            ],
            "image/png": "[encoded data removed]"
          },
          "metadata": {
            "needs_background": "light"
          }
        }
      ]
    },
    {
      "cell_type": "code",
      "source": [
        "print(X_val.shape)\n",
        "print(Y_val.shape)\n",
        "print(X_train.shape)\n",
        "print(Y_train.shape)"
      ],
      "metadata": {
        "colab": {
          "base_uri": "https://localhost:8080/"
        },
        "id": "nrrBWLAUQQSy",
        "outputId": "d0e8f518-f190-4f77-9714-64733bf05ace"
      },
      "execution_count": 6,
      "outputs": [
        {
          "output_type": "stream",
          "name": "stdout",
          "text": [
            "(2000, 128, 128, 3)\n",
            "(2000, 128, 128, 1)\n",
            "(10000, 128, 128, 3)\n",
            "(10000, 128, 128, 1)\n"
          ]
        }
      ]
    },
    {
      "cell_type": "code",
      "source": [
        "X_training_data = []\n",
        "# rezising images and reshaping arrays\n",
        "for img in arabic_test:\n",
        "    try:\n",
        "        image  = cv2.resize(img, (128,128))\n",
        "        X_training_data.append([image])\n",
        "    except Exception as e:\n",
        "        pass\n",
        "X_training_data = np.array(X_training_data, dtype=object)\n",
        "X_training_data = np.array(X_training_data).reshape(-1, 128,128)\n",
        "X_training_data.shape"
      ],
      "metadata": {
        "id": "Iy-pyI2CkL6K",
        "colab": {
          "base_uri": "https://localhost:8080/",
          "height": 235
        },
        "outputId": "ef58e6cb-d3a8-4e43-d1c9-9b71602cddd2"
      },
      "execution_count": null,
      "outputs": [
        {
          "output_type": "error",
          "ename": "NameError",
          "evalue": "ignored",
          "traceback": [
            "\u001b[0;31m---------------------------------------------------------------------------\u001b[0m",
            "\u001b[0;31mNameError\u001b[0m                                 Traceback (most recent call last)",
            "\u001b[0;32m<ipython-input-4-671c847fefb2>\u001b[0m in \u001b[0;36m<module>\u001b[0;34m\u001b[0m\n\u001b[1;32m      1\u001b[0m \u001b[0mX_training_data\u001b[0m \u001b[0;34m=\u001b[0m \u001b[0;34m[\u001b[0m\u001b[0;34m]\u001b[0m\u001b[0;34m\u001b[0m\u001b[0;34m\u001b[0m\u001b[0m\n\u001b[1;32m      2\u001b[0m \u001b[0;31m# rezising images and reshaping arrays\u001b[0m\u001b[0;34m\u001b[0m\u001b[0;34m\u001b[0m\u001b[0;34m\u001b[0m\u001b[0m\n\u001b[0;32m----> 3\u001b[0;31m \u001b[0;32mfor\u001b[0m \u001b[0mimg\u001b[0m \u001b[0;32min\u001b[0m \u001b[0marabic_test\u001b[0m\u001b[0;34m:\u001b[0m\u001b[0;34m\u001b[0m\u001b[0;34m\u001b[0m\u001b[0m\n\u001b[0m\u001b[1;32m      4\u001b[0m     \u001b[0;32mtry\u001b[0m\u001b[0;34m:\u001b[0m\u001b[0;34m\u001b[0m\u001b[0;34m\u001b[0m\u001b[0m\n\u001b[1;32m      5\u001b[0m         \u001b[0mimage\u001b[0m  \u001b[0;34m=\u001b[0m \u001b[0mcv2\u001b[0m\u001b[0;34m.\u001b[0m\u001b[0mresize\u001b[0m\u001b[0;34m(\u001b[0m\u001b[0mimg\u001b[0m\u001b[0;34m,\u001b[0m \u001b[0;34m(\u001b[0m\u001b[0;36m128\u001b[0m\u001b[0;34m,\u001b[0m\u001b[0;36m128\u001b[0m\u001b[0;34m)\u001b[0m\u001b[0;34m)\u001b[0m\u001b[0;34m\u001b[0m\u001b[0;34m\u001b[0m\u001b[0m\n",
            "\u001b[0;31mNameError\u001b[0m: name 'arabic_test' is not defined"
          ]
        }
      ]
    },
    {
      "cell_type": "code",
      "source": [
        "X_training_data = np.repeat(X_training_data[...,np.newaxis],3,-1)"
      ],
      "metadata": {
        "id": "8TVnyMNOyNSH"
      },
      "execution_count": null,
      "outputs": []
    },
    {
      "cell_type": "code",
      "source": [
        "X_training_data.shape"
      ],
      "metadata": {
        "id": "PWTcsVJwzVqC"
      },
      "execution_count": null,
      "outputs": []
    },
    {
      "cell_type": "code",
      "source": [
        "loss_func1 = \"categorical_crossentropy\"\n",
        "loss_func2 = \"binary_crossentropy\"\n",
        "activation_func1 = \"softmax\"\n",
        "activation_func2 = \"sigmoid\""
      ],
      "metadata": {
        "id": "izQq8hoNQ5Iq"
      },
      "execution_count": 7,
      "outputs": []
    },
    {
      "cell_type": "code",
      "execution_count": 8,
      "metadata": {
        "id": "uBRa9M_xZEJM"
      },
      "outputs": [],
      "source": [
        "# https://github.com/nikhilroxtomar/Semantic-Segmentation-Architecture/blob/main/TensorFlow/resnet50_unet.py\n",
        "# https://github.com/zhixuhao/unet\n",
        "def conv_block(input, num_filters):\n",
        "  x = Conv2D(num_filters, 3, padding=\"same\")(input)\n",
        "  x = BatchNormalization()(x)\n",
        "  x = Activation(\"relu\")(x)\n",
        "  x = Conv2D(num_filters, 3, padding=\"same\")(x)\n",
        "  x = BatchNormalization()(x)\n",
        "  x = Activation(\"relu\")(x)\n",
        "  return x\n",
        "\n",
        "def encoder_block(input, num_filters):\n",
        "  x = conv_block(input, num_filters)\n",
        "  p = MaxPool2D((2, 2))(x)\n",
        "  return x, p\n",
        "  \n",
        "def decoder_block(input, skip_features, num_filters):\n",
        "  x = Conv2DTranspose(num_filters, (2, 2), strides=2, padding=\"same\")(input)\n",
        "  x = Concatenate()([x, skip_features])\n",
        "  x = conv_block(x, num_filters)\n",
        "  return x\n",
        "\n",
        "def unet(pretrained, input_shape):\n",
        "  inputs = Input(input_shape)\n",
        "\n",
        "  if pretrained:\n",
        "    \"\"\" Pre-trained ResNet50 Model \"\"\"\n",
        "    resnet50 = ResNet50(include_top=False, weights=\"imagenet\", input_tensor=inputs)\n",
        "    \"\"\" Encoder \"\"\"\n",
        "    s1 = resnet50.get_layer(\"input_1\").output           \n",
        "    s2 = resnet50.get_layer(\"conv1_relu\").output        \n",
        "    s3 = resnet50.get_layer(\"conv2_block3_out\").output  \n",
        "    s4 = resnet50.get_layer(\"conv3_block4_out\").output  \n",
        "\n",
        "    \"\"\" Bridge \"\"\"\n",
        "    b1 = resnet50.get_layer(\"conv4_block6_out\").output  #bottle neck\n",
        "  else:\n",
        "    \"\"\" Encoder \"\"\"\n",
        "    s1, p1 = encoder_block(inputs, 64)\n",
        "    s2, p2 = encoder_block(p1, 128)\n",
        "    s3, p3 = encoder_block(p2, 256)\n",
        "    s4, p4 = encoder_block(p3, 512)\n",
        "    \"\"\" Bridge \"\"\"\n",
        "    b1 = conv_block(p4, 1024)\n",
        "\n",
        "  \"\"\" Decoder \"\"\"\n",
        "  d1 = decoder_block(b1, s4, 512)                     \n",
        "  d2 = decoder_block(d1, s3, 256)                     \n",
        "  d3 = decoder_block(d2, s2, 128)                     \n",
        "  d4 = decoder_block(d3, s1, 64)                      \n",
        "\n",
        "  \"\"\" Output \"\"\"\n",
        "  outputs = Conv2D(1, 1, padding=\"same\", activation= activation_func2 )(d4)\n",
        "\n",
        "  if pretrained:\n",
        "    model = Model(inputs, outputs, name=\"ResNet50_U-Net\")\n",
        "  else:\n",
        "    model = Model(inputs, outputs, name=\"U-Net\")\n",
        "#   model.summary()\n",
        "  return model"
      ]
    },
    {
      "cell_type": "code",
      "source": [
        "filepath = \"/content/best/sample{epoch:03d}-val_acc_{val_accuracy}.hdf5\"\n",
        "checkpoint = ModelCheckpoint(filepath,\n",
        "                              monitor=\"val_accuracy\", verbose=0,\n",
        "                              save_best_only=True, \n",
        "                              save_weights_only=False, mode='max')"
      ],
      "metadata": {
        "id": "R1msbXpMyX0o"
      },
      "execution_count": 9,
      "outputs": []
    },
    {
      "cell_type": "code",
      "source": [
        "model = unet(False,(128,128,3))\n",
        "model.compile(loss =loss_func2, optimizer = \"adam\", metrics =['accuracy'])"
      ],
      "metadata": {
        "id": "R_1Npn5tyqbQ"
      },
      "execution_count": 10,
      "outputs": []
    },
    {
      "cell_type": "code",
      "source": [
        "print(X_train.shape)\n",
        "print(Y_train.shape)\n",
        "print(X_val.shape)\n",
        "print(Y_val.shape)"
      ],
      "metadata": {
        "id": "qYmzgtyzKHc7",
        "colab": {
          "base_uri": "https://localhost:8080/"
        },
        "outputId": "103e74c1-d053-466d-fc86-533a6de7d633"
      },
      "execution_count": 11,
      "outputs": [
        {
          "output_type": "stream",
          "name": "stdout",
          "text": [
            "(10000, 128, 128, 3)\n",
            "(10000, 128, 128, 1)\n",
            "(2000, 128, 128, 3)\n",
            "(2000, 128, 128, 1)\n"
          ]
        }
      ]
    },
    {
      "cell_type": "code",
      "source": [
        "# for i in range(len(X_train)):\n",
        "#     if X_train[i].shape[2] != X_val[i].shape[2]:\n",
        "#         print(i) \n"
      ],
      "metadata": {
        "id": "_gWSL58jdnMX"
      },
      "execution_count": null,
      "outputs": []
    },
    {
      "cell_type": "code",
      "source": [
        "history = model.fit(X_train,Y_train,batch_size= 64,validation_data=(X_val, Y_val), epochs = 30,verbose =1,callbacks=[checkpoint])"
      ],
      "metadata": {
        "colab": {
          "base_uri": "https://localhost:8080/"
        },
        "id": "duOyRHkhybdn",
        "outputId": "c12562e9-76a7-4539-df69-ffb6a407d9a7"
      },
      "execution_count": null,
      "outputs": [
        {
          "output_type": "stream",
          "name": "stdout",
          "text": [
            "Epoch 1/30\n",
            "157/157 [==============================] - 180s 954ms/step - loss: 0.1062 - accuracy: 0.9749 - val_loss: 0.1755 - val_accuracy: 0.9482\n",
            "Epoch 2/30\n",
            "157/157 [==============================] - 140s 891ms/step - loss: 0.0462 - accuracy: 0.9836 - val_loss: 0.1952 - val_accuracy: 0.9651\n",
            "Epoch 3/30\n",
            "157/157 [==============================] - 140s 893ms/step - loss: 0.0390 - accuracy: 0.9845 - val_loss: 0.1820 - val_accuracy: 0.9631\n",
            "Epoch 4/30\n",
            "157/157 [==============================] - 142s 904ms/step - loss: 0.0355 - accuracy: 0.9853 - val_loss: 0.0483 - val_accuracy: 0.9843\n",
            "Epoch 5/30\n",
            "157/157 [==============================] - 142s 903ms/step - loss: 0.0339 - accuracy: 0.9857 - val_loss: 0.0375 - val_accuracy: 0.9850\n",
            "Epoch 6/30\n",
            "157/157 [==============================] - 142s 904ms/step - loss: 0.0326 - accuracy: 0.9860 - val_loss: 0.0339 - val_accuracy: 0.9856\n",
            "Epoch 7/30\n",
            "157/157 [==============================] - 138s 882ms/step - loss: 0.0315 - accuracy: 0.9864 - val_loss: 0.0491 - val_accuracy: 0.9821\n",
            "Epoch 8/30\n",
            "157/157 [==============================] - 140s 894ms/step - loss: 0.0309 - accuracy: 0.9865 - val_loss: 0.0334 - val_accuracy: 0.9855\n",
            "Epoch 9/30\n",
            "157/157 [==============================] - 142s 904ms/step - loss: 0.0303 - accuracy: 0.9868 - val_loss: 0.0329 - val_accuracy: 0.9860\n",
            "Epoch 10/30\n",
            "143/157 [==========================>...] - ETA: 11s - loss: 0.0298 - accuracy: 0.9869"
          ]
        }
      ]
    },
    {
      "cell_type": "code",
      "source": [
        "model.save(\"/content/drive/MyDrive/model_UNet_No12k_CNN\")"
      ],
      "metadata": {
        "colab": {
          "base_uri": "https://localhost:8080/"
        },
        "id": "NGeaI7Vskpj9",
        "outputId": "67baf85b-d9fd-4a7d-9409-8b4f1e8089d3"
      },
      "execution_count": 11,
      "outputs": [
        {
          "output_type": "stream",
          "name": "stderr",
          "text": [
            "WARNING:absl:Found untraced functions such as _jit_compiled_convolution_op, _jit_compiled_convolution_op, _jit_compiled_convolution_op, _jit_compiled_convolution_op, _jit_compiled_convolution_op while saving (showing 5 of 23). These functions will not be directly callable after loading.\n"
          ]
        }
      ]
    },
    {
      "cell_type": "code",
      "source": [
        "loaded_model = tf.keras.models.load_model('/content/drive/MyDrive/model_UNet_No12k_CNN')"
      ],
      "metadata": {
        "id": "pEUSetD7qdo0"
      },
      "execution_count": 8,
      "outputs": []
    },
    {
      "cell_type": "code",
      "source": [
        "plt.plot(history.history['loss'])\n",
        "plt.plot(history.history['val_loss'])\n",
        "plt.title('model loss')\n",
        "plt.ylabel('loss')\n",
        "plt.xlabel('epoch')\n",
        "plt.legend(['x_loss', 'val_loss'])\n",
        "plt.show()"
      ],
      "metadata": {
        "id": "xzoc5CUckll6",
        "colab": {
          "base_uri": "https://localhost:8080/",
          "height": 295
        },
        "outputId": "944efe2f-7ac6-4037-8942-3f344d224881"
      },
      "execution_count": 13,
      "outputs": [
        {
          "output_type": "display_data",
          "data": {
            "text/plain": [
              "<Figure size 432x288 with 1 Axes>"
            ],
            "image/png": "[encoded data removed]"
          },
          "metadata": {
            "needs_background": "light"
          }
        }
      ]
    },
    {
      "cell_type": "code",
      "source": [
        "prediction_self = loaded_model.predict([arabic_dataset])\n",
        "print(prediction_self.shape)"
      ],
      "metadata": {
        "colab": {
          "base_uri": "https://localhost:8080/"
        },
        "id": "RNLTNvrNrkCw",
        "outputId": "b73151e8-c61b-45b5-883f-ade2f1c3195a"
      },
      "execution_count": 9,
      "outputs": [
        {
          "output_type": "stream",
          "name": "stdout",
          "text": [
            "313/313 [==============================] - 57s 142ms/step\n",
            "(10000, 128, 128, 1)\n"
          ]
        }
      ]
    },
    {
      "cell_type": "code",
      "source": [
        "# plt.imshow(X_test[0].reshape(128,128,3), cmap=\"gray\")\n",
        "# plt.show()\n",
        "# plt.imshow(prediction[0].reshape(128,128), cmap=\"gray\")\n",
        "# plt.show()"
      ],
      "metadata": {
        "id": "5hdcmZSkvP_p"
      },
      "execution_count": null,
      "outputs": []
    },
    {
      "cell_type": "code",
      "source": [
        "predicted_sample = prediction_self.astype('float32')\n",
        "# print(prediction[0])\n",
        "threshold_arabic = []\n",
        "for img in predicted_sample:\n",
        "              #  img, th1 = cv2.threshold(img , 127, 0, cv2.THRESH_BINARY)\n",
        "               (img, th1) = cv2.threshold(img , 0.5, 1, cv2.THRESH_BINARY)\n",
        "               threshold_arabic.append(th1)   "
      ],
      "metadata": {
        "id": "ogdhKzKDzdmp"
      },
      "execution_count": 10,
      "outputs": []
    },
    {
      "cell_type": "code",
      "source": [
        "plt.imshow(arabic_dataset[1].reshape(128,128,3), cmap=\"gray\")\n",
        "plt.show()\n",
        "plt.imshow(prediction_self[1].reshape(128,128), cmap=\"gray\")\n",
        "plt.show()\n",
        "plt.imshow(threshold_arabic[1].reshape(128,128), cmap=\"gray\")\n",
        "plt.show()"
      ],
      "metadata": {
        "colab": {
          "base_uri": "https://localhost:8080/",
          "height": 770
        },
        "id": "D2R7x64IzG3Q",
        "outputId": "2f02da17-c1d3-4384-f13e-7f16fb5d2477"
      },
      "execution_count": 11,
      "outputs": [
        {
          "output_type": "display_data",
          "data": {
            "text/plain": [
              "<Figure size 432x288 with 1 Axes>"
            ],
            "image/png": "[encoded data removed]"
          },
          "metadata": {
            "needs_background": "light"
          }
        },
        {
          "output_type": "display_data",
          "data": {
            "text/plain": [
              "<Figure size 432x288 with 1 Axes>"
            ],
            "image/png": "[encoded data removed]"
          },
          "metadata": {
            "needs_background": "light"
          }
        },
        {
          "output_type": "display_data",
          "data": {
            "text/plain": [
              "<Figure size 432x288 with 1 Axes>"
            ],
            "image/png": "[encoded data removed]"
          },
          "metadata": {
            "needs_background": "light"
          }
        }
      ]
    },
    {
      "cell_type": "code",
      "source": [
        "plt.imshow(arabic_test[3].reshape(28,28), cmap=\"gray\")\n",
        "plt.show()\n",
        "plt.imshow(arabic_dataset[3].reshape(128,128,3), cmap=\"gray\")\n",
        "plt.show()\n",
        "plt.imshow(prediction_self[3].reshape(128,128), cmap=\"gray\")\n",
        "plt.show()\n",
        "plt.imshow(threshold_arabic[3].reshape(128,128), cmap=\"gray\")\n",
        "plt.show()"
      ],
      "metadata": {
        "colab": {
          "base_uri": "https://localhost:8080/",
          "height": 235
        },
        "id": "tCzW47Gd1lwn",
        "outputId": "580075cc-9b9e-458c-9517-11b65fe27b98"
      },
      "execution_count": 12,
      "outputs": [
        {
          "output_type": "error",
          "ename": "NameError",
          "evalue": "ignored",
          "traceback": [
            "\u001b[0;31m---------------------------------------------------------------------------\u001b[0m",
            "\u001b[0;31mNameError\u001b[0m                                 Traceback (most recent call last)",
            "\u001b[0;32m<ipython-input-12-24490b638d52>\u001b[0m in \u001b[0;36m<module>\u001b[0;34m\u001b[0m\n\u001b[0;32m----> 1\u001b[0;31m \u001b[0mplt\u001b[0m\u001b[0;34m.\u001b[0m\u001b[0mimshow\u001b[0m\u001b[0;34m(\u001b[0m\u001b[0marabic_test\u001b[0m\u001b[0;34m[\u001b[0m\u001b[0;36m3\u001b[0m\u001b[0;34m]\u001b[0m\u001b[0;34m.\u001b[0m\u001b[0mreshape\u001b[0m\u001b[0;34m(\u001b[0m\u001b[0;36m28\u001b[0m\u001b[0;34m,\u001b[0m\u001b[0;36m28\u001b[0m\u001b[0;34m)\u001b[0m\u001b[0;34m,\u001b[0m \u001b[0mcmap\u001b[0m\u001b[0;34m=\u001b[0m\u001b[0;34m\"gray\"\u001b[0m\u001b[0;34m)\u001b[0m\u001b[0;34m\u001b[0m\u001b[0;34m\u001b[0m\u001b[0m\n\u001b[0m\u001b[1;32m      2\u001b[0m \u001b[0mplt\u001b[0m\u001b[0;34m.\u001b[0m\u001b[0mshow\u001b[0m\u001b[0;34m(\u001b[0m\u001b[0;34m)\u001b[0m\u001b[0;34m\u001b[0m\u001b[0;34m\u001b[0m\u001b[0m\n\u001b[1;32m      3\u001b[0m \u001b[0mplt\u001b[0m\u001b[0;34m.\u001b[0m\u001b[0mimshow\u001b[0m\u001b[0;34m(\u001b[0m\u001b[0marabic_dataset\u001b[0m\u001b[0;34m[\u001b[0m\u001b[0;36m3\u001b[0m\u001b[0;34m]\u001b[0m\u001b[0;34m.\u001b[0m\u001b[0mreshape\u001b[0m\u001b[0;34m(\u001b[0m\u001b[0;36m128\u001b[0m\u001b[0;34m,\u001b[0m\u001b[0;36m128\u001b[0m\u001b[0;34m,\u001b[0m\u001b[0;36m3\u001b[0m\u001b[0;34m)\u001b[0m\u001b[0;34m,\u001b[0m \u001b[0mcmap\u001b[0m\u001b[0;34m=\u001b[0m\u001b[0;34m\"gray\"\u001b[0m\u001b[0;34m)\u001b[0m\u001b[0;34m\u001b[0m\u001b[0;34m\u001b[0m\u001b[0m\n\u001b[1;32m      4\u001b[0m \u001b[0mplt\u001b[0m\u001b[0;34m.\u001b[0m\u001b[0mshow\u001b[0m\u001b[0;34m(\u001b[0m\u001b[0;34m)\u001b[0m\u001b[0;34m\u001b[0m\u001b[0;34m\u001b[0m\u001b[0m\n\u001b[1;32m      5\u001b[0m \u001b[0mplt\u001b[0m\u001b[0;34m.\u001b[0m\u001b[0mimshow\u001b[0m\u001b[0;34m(\u001b[0m\u001b[0mprediction_self\u001b[0m\u001b[0;34m[\u001b[0m\u001b[0;36m3\u001b[0m\u001b[0;34m]\u001b[0m\u001b[0;34m.\u001b[0m\u001b[0mreshape\u001b[0m\u001b[0;34m(\u001b[0m\u001b[0;36m128\u001b[0m\u001b[0;34m,\u001b[0m\u001b[0;36m128\u001b[0m\u001b[0;34m)\u001b[0m\u001b[0;34m,\u001b[0m \u001b[0mcmap\u001b[0m\u001b[0;34m=\u001b[0m\u001b[0;34m\"gray\"\u001b[0m\u001b[0;34m)\u001b[0m\u001b[0;34m\u001b[0m\u001b[0;34m\u001b[0m\u001b[0m\n",
            "\u001b[0;31mNameError\u001b[0m: name 'arabic_test' is not defined"
          ]
        }
      ]
    },
    {
      "cell_type": "code",
      "source": [
        "plt.imshow(arabic_test[0].reshape(28,28), cmap=\"gray\")\n",
        "plt.show()\n",
        "plt.imshow(arabic_dataset[0].reshape(128,128,3), cmap=\"gray\")\n",
        "plt.show()\n",
        "plt.imshow(prediction_self[0].reshape(128,128), cmap=\"gray\")\n",
        "plt.show()\n",
        "plt.imshow(threshold_arabic[0].reshape(128,128), cmap=\"gray\")\n",
        "plt.show()"
      ],
      "metadata": {
        "colab": {
          "base_uri": "https://localhost:8080/",
          "height": 1000
        },
        "id": "Vos9D4Gv5IwZ",
        "outputId": "c9f73225-b2af-46d7-c989-1c29fcf0a8bc"
      },
      "execution_count": null,
      "outputs": [
        {
          "output_type": "display_data",
          "data": {
            "text/plain": [
              "<Figure size 432x288 with 1 Axes>"
            ],
            "image/png": "[encoded data removed]"
          },
          "metadata": {
            "needs_background": "light"
          }
        },
        {
          "output_type": "display_data",
          "data": {
            "text/plain": [
              "<Figure size 432x288 with 1 Axes>"
            ],
            "image/png": "[encoded data removed]"
          },
          "metadata": {
            "needs_background": "light"
          }
        },
        {
          "output_type": "display_data",
          "data": {
            "text/plain": [
              "<Figure size 432x288 with 1 Axes>"
            ],
            "image/png": "[encoded data removed]"
          },
          "metadata": {
            "needs_background": "light"
          }
        },
        {
          "output_type": "display_data",
          "data": {
            "text/plain": [
              "<Figure size 432x288 with 1 Axes>"
            ],
            "image/png": "[encoded data removed]"
          },
          "metadata": {
            "needs_background": "light"
          }
        }
      ]
    },
    {
      "cell_type": "code",
      "source": [
        "print(predicted_sample[0])"
      ],
      "metadata": {
        "colab": {
          "base_uri": "https://localhost:8080/"
        },
        "id": "AQ9qphY1z_JH",
        "outputId": "569d54f4-1481-4430-cd21-cb5a1ca6a37a"
      },
      "execution_count": null,
      "outputs": [
        {
          "output_type": "stream",
          "name": "stdout",
          "text": [
            "[[[2.13068677e-04]\n",
            "  [1.19055825e-04]\n",
            "  [9.81155026e-05]\n",
            "  ...\n",
            "  [1.16651740e-04]\n",
            "  [1.13250797e-04]\n",
            "  [1.58601266e-04]]\n",
            "\n",
            " [[7.88972175e-05]\n",
            "  [1.11682159e-04]\n",
            "  [3.72339418e-05]\n",
            "  ...\n",
            "  [2.80032546e-04]\n",
            "  [6.62878301e-05]\n",
            "  [1.41712371e-04]]\n",
            "\n",
            " [[1.32644942e-04]\n",
            "  [5.89108859e-05]\n",
            "  [7.00640594e-05]\n",
            "  ...\n",
            "  [1.61479111e-04]\n",
            "  [1.17537849e-04]\n",
            "  [1.12543712e-04]]\n",
            "\n",
            " ...\n",
            "\n",
            " [[8.81140004e-05]\n",
            "  [5.36090847e-05]\n",
            "  [4.97992805e-05]\n",
            "  ...\n",
            "  [5.29156314e-05]\n",
            "  [1.57831637e-05]\n",
            "  [4.82101932e-05]]\n",
            "\n",
            " [[1.20796998e-04]\n",
            "  [4.08487431e-05]\n",
            "  [3.65401647e-05]\n",
            "  ...\n",
            "  [2.39586007e-05]\n",
            "  [4.03066551e-05]\n",
            "  [5.51837074e-05]]\n",
            "\n",
            " [[1.62630444e-04]\n",
            "  [9.58623423e-05]\n",
            "  [3.91931317e-05]\n",
            "  ...\n",
            "  [8.41022338e-05]\n",
            "  [3.81229875e-05]\n",
            "  [1.54630456e-04]]]\n"
          ]
        }
      ]
    },
    {
      "cell_type": "code",
      "source": [
        "if __name__ == \"__main__\":\n",
        "    model = unet(False,(128,128,3))\n",
        "    # X_training_data = np.asarray(X_training_data).astype('float32')\n",
        "    prediction = model.predict([arabic_dataset])\n",
        "    # model.summary()"
      ],
      "metadata": {
        "id": "wakTF2wecPo4",
        "colab": {
          "base_uri": "https://localhost:8080/"
        },
        "outputId": "9567bff0-b2c9-477e-814a-2422935beb67"
      },
      "execution_count": null,
      "outputs": [
        {
          "output_type": "stream",
          "name": "stdout",
          "text": [
            "313/313 [==============================] - 53s 131ms/step\n"
          ]
        }
      ]
    },
    {
      "cell_type": "code",
      "source": [
        "model.save(\"/content/drive/MyDrive/model_No100_CNN\")"
      ],
      "metadata": {
        "id": "nbHofda6dEtA"
      },
      "execution_count": null,
      "outputs": []
    },
    {
      "cell_type": "code",
      "source": [
        "print(prediction.shape)"
      ],
      "metadata": {
        "id": "1pPXw59JE7YW"
      },
      "execution_count": null,
      "outputs": []
    },
    {
      "cell_type": "code",
      "source": [
        "predicted_sample = prediction.astype('float32') \n",
        "# print(prediction[0])\n",
        "threshold_arabic = []\n",
        "for img in predicted_sample:\n",
        "              #  img, th1 = cv2.threshold(img , 127, 0, cv2.THRESH_BINARY)\n",
        "               (img, th1) = cv2.threshold(img , 0.5, 1, cv2.THRESH_BINARY)\n",
        "               threshold_arabic.append(th1)  "
      ],
      "metadata": {
        "id": "vFbt-pT-FOlB"
      },
      "execution_count": null,
      "outputs": []
    },
    {
      "cell_type": "code",
      "source": [
        "import skimage.color\n",
        "import skimage.filters"
      ],
      "metadata": {
        "id": "xUU3D-lm3a2y"
      },
      "execution_count": null,
      "outputs": []
    },
    {
      "cell_type": "code",
      "source": [
        "prediction[0]"
      ],
      "metadata": {
        "id": "2nTheOzMxLPj",
        "outputId": "5d5d8c84-f9c1-4483-b874-0e72e7f63040",
        "colab": {
          "base_uri": "https://localhost:8080/"
        }
      },
      "execution_count": null,
      "outputs": [
        {
          "output_type": "execute_result",
          "data": {
            "text/plain": [
              "array([[[0.50000066],\n",
              "        [0.49999964],\n",
              "        [0.5000006 ],\n",
              "        ...,\n",
              "        [0.5       ],\n",
              "        [0.5000005 ],\n",
              "        [0.49999917]],\n",
              "\n",
              "       [[0.5000001 ],\n",
              "        [0.49999952],\n",
              "        [0.5000005 ],\n",
              "        ...,\n",
              "        [0.5       ],\n",
              "        [0.5       ],\n",
              "        [0.5000008 ]],\n",
              "\n",
              "       [[0.5000003 ],\n",
              "        [0.5000002 ],\n",
              "        [0.5000009 ],\n",
              "        ...,\n",
              "        [0.49999988],\n",
              "        [0.5000018 ],\n",
              "        [0.49999988]],\n",
              "\n",
              "       ...,\n",
              "\n",
              "       [[0.49999917],\n",
              "        [0.5       ],\n",
              "        [0.49999964],\n",
              "        ...,\n",
              "        [0.50000006],\n",
              "        [0.49999976],\n",
              "        [0.49999976]],\n",
              "\n",
              "       [[0.50000095],\n",
              "        [0.5000008 ],\n",
              "        [0.5000005 ],\n",
              "        ...,\n",
              "        [0.50000024],\n",
              "        [0.50000036],\n",
              "        [0.5000001 ]],\n",
              "\n",
              "       [[0.5000002 ],\n",
              "        [0.5       ],\n",
              "        [0.5000006 ],\n",
              "        ...,\n",
              "        [0.5000003 ],\n",
              "        [0.5000003 ],\n",
              "        [0.50000006]]], dtype=float32)"
            ]
          },
          "metadata": {},
          "execution_count": 10
        }
      ]
    },
    {
      "cell_type": "code",
      "source": [
        "plt.imshow(prediction[0].reshape(128,128), cmap=\"gray\")\n",
        "plt.show()\n",
        "plt.imshow(threshold_arabic[0].reshape(128,128), cmap=\"gray\")\n",
        "plt.show()\n",
        "blurred_image = skimage.filters.gaussian(prediction[0], sigma=1)\n",
        "plt.imshow(blurred_image.reshape(128,128), cmap=\"gray\")\n",
        "plt.show()\n",
        "print(blurred_image)"
      ],
      "metadata": {
        "colab": {
          "base_uri": "https://localhost:8080/",
          "height": 486
        },
        "id": "mefOvAUuFLNE",
        "outputId": "45e9382e-074e-44fa-93a5-3e1fd85b301d"
      },
      "execution_count": null,
      "outputs": [
        {
          "output_type": "display_data",
          "data": {
            "text/plain": [
              "<Figure size 432x288 with 1 Axes>"
            ],
            "image/png": "[encoded data removed]"
          },
          "metadata": {
            "needs_background": "light"
          }
        },
        {
          "output_type": "error",
          "ename": "NameError",
          "evalue": "ignored",
          "traceback": [
            "\u001b[0;31m---------------------------------------------------------------------------\u001b[0m",
            "\u001b[0;31mNameError\u001b[0m                                 Traceback (most recent call last)",
            "\u001b[0;32m<ipython-input-9-5940d9f5d5c7>\u001b[0m in \u001b[0;36m<module>\u001b[0;34m\u001b[0m\n\u001b[1;32m      1\u001b[0m \u001b[0mplt\u001b[0m\u001b[0;34m.\u001b[0m\u001b[0mimshow\u001b[0m\u001b[0;34m(\u001b[0m\u001b[0mprediction\u001b[0m\u001b[0;34m[\u001b[0m\u001b[0;36m0\u001b[0m\u001b[0;34m]\u001b[0m\u001b[0;34m.\u001b[0m\u001b[0mreshape\u001b[0m\u001b[0;34m(\u001b[0m\u001b[0;36m128\u001b[0m\u001b[0;34m,\u001b[0m\u001b[0;36m128\u001b[0m\u001b[0;34m)\u001b[0m\u001b[0;34m,\u001b[0m \u001b[0mcmap\u001b[0m\u001b[0;34m=\u001b[0m\u001b[0;34m\"gray\"\u001b[0m\u001b[0;34m)\u001b[0m\u001b[0;34m\u001b[0m\u001b[0;34m\u001b[0m\u001b[0m\n\u001b[1;32m      2\u001b[0m \u001b[0mplt\u001b[0m\u001b[0;34m.\u001b[0m\u001b[0mshow\u001b[0m\u001b[0;34m(\u001b[0m\u001b[0;34m)\u001b[0m\u001b[0;34m\u001b[0m\u001b[0;34m\u001b[0m\u001b[0m\n\u001b[0;32m----> 3\u001b[0;31m \u001b[0mplt\u001b[0m\u001b[0;34m.\u001b[0m\u001b[0mimshow\u001b[0m\u001b[0;34m(\u001b[0m\u001b[0mthreshold_arabic\u001b[0m\u001b[0;34m[\u001b[0m\u001b[0;36m0\u001b[0m\u001b[0;34m]\u001b[0m\u001b[0;34m.\u001b[0m\u001b[0mreshape\u001b[0m\u001b[0;34m(\u001b[0m\u001b[0;36m128\u001b[0m\u001b[0;34m,\u001b[0m\u001b[0;36m128\u001b[0m\u001b[0;34m)\u001b[0m\u001b[0;34m,\u001b[0m \u001b[0mcmap\u001b[0m\u001b[0;34m=\u001b[0m\u001b[0;34m\"gray\"\u001b[0m\u001b[0;34m)\u001b[0m\u001b[0;34m\u001b[0m\u001b[0;34m\u001b[0m\u001b[0m\n\u001b[0m\u001b[1;32m      4\u001b[0m \u001b[0mplt\u001b[0m\u001b[0;34m.\u001b[0m\u001b[0mshow\u001b[0m\u001b[0;34m(\u001b[0m\u001b[0;34m)\u001b[0m\u001b[0;34m\u001b[0m\u001b[0;34m\u001b[0m\u001b[0m\n\u001b[1;32m      5\u001b[0m \u001b[0mblurred_image\u001b[0m \u001b[0;34m=\u001b[0m \u001b[0mskimage\u001b[0m\u001b[0;34m.\u001b[0m\u001b[0mfilters\u001b[0m\u001b[0;34m.\u001b[0m\u001b[0mgaussian\u001b[0m\u001b[0;34m(\u001b[0m\u001b[0mprediction\u001b[0m\u001b[0;34m[\u001b[0m\u001b[0;36m0\u001b[0m\u001b[0;34m]\u001b[0m\u001b[0;34m,\u001b[0m \u001b[0msigma\u001b[0m\u001b[0;34m=\u001b[0m\u001b[0;36m1\u001b[0m\u001b[0;34m)\u001b[0m\u001b[0;34m\u001b[0m\u001b[0;34m\u001b[0m\u001b[0m\n",
            "\u001b[0;31mNameError\u001b[0m: name 'threshold_arabic' is not defined"
          ]
        }
      ]
    },
    {
      "cell_type": "code",
      "source": [],
      "metadata": {
        "id": "gXHC_DDb2ZVF"
      },
      "execution_count": null,
      "outputs": []
    }
  ]
}